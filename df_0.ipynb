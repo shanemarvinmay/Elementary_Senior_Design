{
 "cells": [
  {
   "cell_type": "code",
   "execution_count": 1328,
   "metadata": {},
   "outputs": [],
   "source": [
    "import pandas as pd\n",
    "import numpy as np\n",
    "import matplotlib.pyplot as plt"
   ]
  },
  {
   "cell_type": "code",
   "execution_count": 1329,
   "metadata": {},
   "outputs": [],
   "source": [
    "df = pd.read_csv('datasets/cars_data.csv')\n",
    "df_c = df.copy()"
   ]
  },
  {
   "cell_type": "markdown",
   "metadata": {},
   "source": [
    "# Cleaning the data!"
   ]
  },
  {
   "cell_type": "markdown",
   "metadata": {},
   "source": [
    "## Cleaning the numeric data!"
   ]
  },
  {
   "cell_type": "code",
   "execution_count": 1331,
   "metadata": {},
   "outputs": [
    {
     "data": {
      "text/plain": [
       "0      13495\n",
       "1      16500\n",
       "2      16500\n",
       "3      13950\n",
       "4      17450\n",
       "       ...  \n",
       "200    16845\n",
       "201    19045\n",
       "202    21485\n",
       "203    22470\n",
       "204    22625\n",
       "Name: price, Length: 205, dtype: object"
      ]
     },
     "execution_count": 1331,
     "metadata": {},
     "output_type": "execute_result"
    }
   ],
   "source": [
    "df = df.replace('?', np.nan)\n"
   ]
  },
  {
   "cell_type": "code",
   "execution_count": 1332,
   "metadata": {},
   "outputs": [],
   "source": [
    "df['price'] = pd.to_numeric(df['price'])\n",
    "df['peak-rpm'] = pd.to_numeric(df['peak-rpm'])\n",
    "df['horsepower'] = pd.to_numeric(df['horsepower'])\n",
    "df['stroke'] = pd.to_numeric(df['stroke'])\n",
    "df['bore'] = pd.to_numeric(df['bore'])\n",
    "df['normalized-losses'] = pd.to_numeric(df['normalized-losses'])\n",
    "df['wheel-base'] = pd.to_numeric(df['wheel-base'])\n",
    "df['num-of-cylinders'] = df['num-of-cylinders'].map({'four':4, 'six':6, 'five':5, 'three':3, 'twelve':12, 'two':2, 'eight':8})\n"
   ]
  },
  {
   "cell_type": "code",
   "execution_count": 1334,
   "metadata": {},
   "outputs": [
    {
     "name": "stdout",
     "output_type": "stream",
     "text": [
      "17\n",
      "Index(['symboling', 'normalized-losses', 'wheel-base', 'length', 'width',\n",
      "       'height', 'curb-weight', 'num-of-cylinders', 'engine-size', 'bore',\n",
      "       'stroke', 'compression-ratio', 'horsepower', 'peak-rpm', 'city-mpg',\n",
      "       'highway-mpg', 'price'],\n",
      "      dtype='object')\n"
     ]
    }
   ],
   "source": [
    "from sklearn.impute import SimpleImputer\n",
    "# making the imputer and telling it to replace missing values with the median\n",
    "imputer = SimpleImputer( strategy='median') # missing_values = np.nan,\n",
    "# selecting the numeric columns so we don't break the imputer\n",
    "df_num = df.select_dtypes(include=[np.number])\n",
    "# print(df_num.shape)\n",
    "print(len(df_num.columns))\n",
    "print(df_num.columns)\n",
    "# median is in statistics_ variable\n",
    "imputer.fit(df_num)\n",
    "x = imputer.transform(df_num)\n",
    "len(x[0])\n",
    "# creating a dataframe without any missing numeric types\n",
    "df_num = pd.DataFrame(x, columns = df_num.columns, index=df_num.index)\n"
   ]
  },
  {
   "cell_type": "code",
   "execution_count": 1335,
   "metadata": {},
   "outputs": [
    {
     "name": "stdout",
     "output_type": "stream",
     "text": [
      "count      205.000000\n",
      "mean     13150.307317\n",
      "std       7879.121326\n",
      "min       5118.000000\n",
      "25%       7788.000000\n",
      "50%      10295.000000\n",
      "75%      16500.000000\n",
      "max      45400.000000\n",
      "Name: price, dtype: float64\n",
      "count    205.000000\n",
      "mean     104.165854\n",
      "std       39.529733\n",
      "min       48.000000\n",
      "25%       70.000000\n",
      "50%       95.000000\n",
      "75%      116.000000\n",
      "max      288.000000\n",
      "Name: horsepower, dtype: float64\n"
     ]
    }
   ],
   "source": [
    "\n",
    "# price highway-mpg city-mpg horsepower\n",
    "# price 5118 to 45400\n",
    "# hwmpg 16 to 54\n",
    "# citympg 13 to 49\n",
    "# hp 48 to 288\n",
    "print(df_num['price'].describe())\n",
    "# print(df_num['highway-mpg'].describe())\n",
    "# print(df_num['city-mpg'].describe())\n",
    "print(df_num['horsepower'].describe())"
   ]
  },
  {
   "cell_type": "markdown",
   "metadata": {},
   "source": [
    "### Scaling\n",
    "* standardization\n",
    "    * benefit: less effected by outliers\n",
    "    * todo: y = (number - mean) / standard diviation\n",
    "    * toundo: number = y * standard diviation + mean\n",
    "    * is not bound between 0 - 1\n",
    "    * Scikit does this with StandardScaler"
   ]
  },
  {
   "cell_type": "code",
   "execution_count": 1336,
   "metadata": {},
   "outputs": [],
   "source": [
    "# from sklearn.preprocessing import StandardScaler\n",
    "# scaler = StandardScaler()\n",
    "# df_num[['horsepower','price','highway-mpg','city-mpg']] = scaler.fit_transform(df_num[['horsepower','price','highway-mpg','city-mpg']])"
   ]
  },
  {
   "cell_type": "code",
   "execution_count": 1337,
   "metadata": {},
   "outputs": [
    {
     "name": "stdout",
     "output_type": "stream",
     "text": [
      "13150.307317073171\n",
      "7879.121326060378\n",
      "     horsepower     price  highway-mpg  city-mpg\n",
      "0      0.172886  0.043748    -0.544725 -0.644974\n",
      "1      0.172886  0.425135    -0.544725 -0.644974\n",
      "2      1.260675  0.425135    -0.689938 -0.950684\n",
      "3     -0.054790  0.101495    -0.109087 -0.186409\n",
      "4      0.274076  0.545707    -1.270789 -1.103540\n",
      "..          ...       ...          ...       ...\n",
      "200    0.248778  0.468922    -0.399512 -0.339264\n",
      "201    1.412459  0.748141    -0.835151 -0.950684\n",
      "202    0.754727  1.057820    -1.125577 -1.103540\n",
      "203    0.046399  1.182834    -0.544725  0.119302\n",
      "204    0.248778  1.202506    -0.835151 -0.950684\n",
      "\n",
      "[205 rows x 4 columns] {'horsepower': {'mean': 104.16585365853659, 'std': 39.52973322328356}, 'price': {'mean': 13150.307317073171, 'std': 7879.121326060378}, 'highway-mpg': {'mean': 30.75121951219512, 'std': 6.88644313094182}, 'city-mpg': {'mean': 25.21951219512195, 'std': 6.54214165300162}}\n",
      "     horsepower    price  highway-mpg  city-mpg\n",
      "0         111.0  13495.0         27.0      21.0\n",
      "1         111.0  16500.0         27.0      21.0\n",
      "2         154.0  16500.0         26.0      19.0\n",
      "3         102.0  13950.0         30.0      24.0\n",
      "4         115.0  17450.0         22.0      18.0\n",
      "..          ...      ...          ...       ...\n",
      "200       114.0  16845.0         28.0      23.0\n",
      "201       160.0  19045.0         25.0      19.0\n",
      "202       134.0  21485.0         23.0      18.0\n",
      "203       106.0  22470.0         27.0      26.0\n",
      "204       114.0  22625.0         25.0      19.0\n",
      "\n",
      "[205 rows x 4 columns]\n",
      "     horsepower    price  highway-mpg  city-mpg\n",
      "0         111.0  13495.0         27.0      21.0\n",
      "1         111.0  16500.0         27.0      21.0\n",
      "2         154.0  16500.0         26.0      19.0\n",
      "3         102.0  13950.0         30.0      24.0\n",
      "4         115.0  17450.0         22.0      18.0\n",
      "..          ...      ...          ...       ...\n",
      "200       114.0  16845.0         28.0      23.0\n",
      "201       160.0  19045.0         25.0      19.0\n",
      "202       134.0  21485.0         23.0      18.0\n",
      "203       106.0  22470.0         27.0      26.0\n",
      "204       114.0  22625.0         25.0      19.0\n",
      "\n",
      "[205 rows x 4 columns] {'horsepower': {'mean': 104.16585365853659, 'std': 39.52973322328356}, 'price': {'mean': 13150.307317073171, 'std': 7879.121326060378}, 'highway-mpg': {'mean': 30.75121951219512, 'std': 6.88644313094182}, 'city-mpg': {'mean': 25.21951219512195, 'std': 6.54214165300162}}\n"
     ]
    }
   ],
   "source": [
    "test_df = df_num[['horsepower','price','highway-mpg','city-mpg']].copy()\n",
    "std_obj = {}\n",
    "standard_deviations = []\n",
    "means = []\n",
    "print( test_df['price'].mean() )\n",
    "print( test_df['price'].std() )\n",
    "def std(df, cols = []):\n",
    "#     y = (number - mean) / standard diviation\n",
    "#     get means\n",
    "#     get stds\n",
    "#     loop thru cols\n",
    "#     loop thru rows and standardize (in array)\n",
    "#     return (df, std_obj)\n",
    "    std_obj = {}\n",
    "    means = {}\n",
    "    stds = {}\n",
    "    for col in cols:\n",
    "        std_obj[col] = {}\n",
    "        std_obj[col][\"mean\"] =  df[col].mean()\n",
    "        std_obj[col][\"std\"] =  df[col].std()\n",
    "\n",
    "    for col in cols:\n",
    "        data = np.array([])\n",
    "        for i in df.index:\n",
    "            data = np.append(data, (df[col][i] - std_obj[col][\"mean\"]) / std_obj[col][\"std\"] )\n",
    "        df[col] = data \n",
    "    return (df, std_obj)\n",
    "test_df, std_obj = std(test_df, ['horsepower','price','highway-mpg','city-mpg']) \n",
    "print(test_df, std_obj)\n",
    "print( df_num[['horsepower','price','highway-mpg','city-mpg']])\n",
    "def undo_std(df, cols = [], std_obj = {}):\n",
    "#   number = y * standard diviation + mean\n",
    "#     loop thru cols\n",
    "#     loop thru rows and un-standardize (in array)\n",
    "#     return df\n",
    "    for col in cols:\n",
    "        data = np.array([])\n",
    "        for i in df.index:\n",
    "            data = np.append(data, (df[col][i] * std_obj[col][\"std\"]) + std_obj[col][\"mean\"] )\n",
    "        df[col] = data\n",
    "    return df\n",
    "test_df = undo_std(test_df, ['horsepower','price','highway-mpg','city-mpg'], std_obj)\n",
    "print(test_df, std_obj)\n",
    "# idx = 0 # this is the only way to iterate through p\n",
    "# for i in y.index:\n",
    "#     temp = y['price'][i]\n",
    "#     data = np.append( data, abs( y['price'][i] - p['price'][idx] ) )\n",
    "# #     print(temp , p['price'][idx])\n",
    "# #     print(i)\n",
    "#     idx += 1\n"
   ]
  },
  {
   "cell_type": "code",
   "execution_count": 1338,
   "metadata": {},
   "outputs": [
    {
     "name": "stdout",
     "output_type": "stream",
     "text": [
      "13150.307317073171\n",
      "-8.990098638428097e-17\n"
     ]
    }
   ],
   "source": [
    "d = {\"price\": {\"mean\": 0, \"std\": 1} }\n",
    "d['price']['mean']\n",
    "# std_obj def std(df, cols = []): return (df, std_obj) def undo_std(df, cols = [], std_obj = {}): return df \n",
    "print( df_num['price'].mean() )\n",
    "df_num, std_obj = std(df_num, cols = ['horsepower','price','highway-mpg','city-mpg'])\n",
    "print( df_num['price'].mean() )"
   ]
  },
  {
   "cell_type": "markdown",
   "metadata": {},
   "source": [
    "## Cleaning categorical data!"
   ]
  },
  {
   "cell_type": "code",
   "execution_count": 1339,
   "metadata": {},
   "outputs": [],
   "source": [
    "df_cat = df.select_dtypes(exclude=[np.number])"
   ]
  },
  {
   "cell_type": "code",
   "execution_count": 1340,
   "metadata": {},
   "outputs": [],
   "source": [
    "# WAS USING THIS TO REPLACE MISSING VALUES WITH SOMETHING USEFUL BUT I'M SHORT ON TIME\n",
    "# temp = df_cat[(df_cat[\"num-of-doors\"] != \"two\") & (df_cat[\"num-of-doors\"] != \"four\") ]\n",
    "# for i in range( len(temp[\"num-of-doors\"]) ):\n",
    "#     temp.iloc[i][\"num-of-doors\"] = \"four\""
   ]
  },
  {
   "cell_type": "code",
   "execution_count": 1341,
   "metadata": {},
   "outputs": [],
   "source": [
    "df_cat = df_cat.fillna(\"other\")"
   ]
  },
  {
   "cell_type": "code",
   "execution_count": 1342,
   "metadata": {},
   "outputs": [],
   "source": [
    "from sklearn.preprocessing import OrdinalEncoder\n",
    "ordinal_encoder = OrdinalEncoder()\n",
    "df_cat_encoder = ordinal_encoder.fit_transform(df_cat)\n",
    "# ordinal_encoder.categories_\n",
    "# df.price"
   ]
  },
  {
   "cell_type": "markdown",
   "metadata": {},
   "source": [
    "## Combining the cleaned num and cat dataframes"
   ]
  },
  {
   "cell_type": "code",
   "execution_count": 1343,
   "metadata": {},
   "outputs": [],
   "source": [
    "# df = df_num.append(df_cat, ignore_index = False, sort=True) THIS CRAP DOESN'T WORK AT ALL (it adds more rows not columns)\n",
    "for col in df_num:\n",
    "    df[col] = df_num[col]\n",
    "for col in df_cat:\n",
    "    df[col] = df_cat[col]\n",
    "\n"
   ]
  },
  {
   "cell_type": "markdown",
   "metadata": {},
   "source": [
    "# Exploring the data!"
   ]
  },
  {
   "cell_type": "code",
   "execution_count": 1344,
   "metadata": {},
   "outputs": [],
   "source": [
    "# df.hist(bins=50, figsize=(20,15))\n",
    "# bins are the number of bars you will use to show the data\n",
    "# figsize defines how big each box will be for graph\n",
    "# save_fig(\"attribute_history_gram\") this is used in the source code but not mine\n",
    "\n",
    "# df.show()\n",
    "# df.info()"
   ]
  },
  {
   "cell_type": "code",
   "execution_count": 1345,
   "metadata": {},
   "outputs": [
    {
     "data": {
      "text/plain": [
       "price                1.000000\n",
       "engine-size          0.860343\n",
       "curb-weight          0.819817\n",
       "horsepower           0.749919\n",
       "width                0.724558\n",
       "length               0.686567\n",
       "num-of-cylinders     0.681036\n",
       "wheel-base           0.584847\n",
       "bore                 0.532861\n",
       "height               0.140439\n",
       "normalized-losses    0.095489\n",
       "stroke               0.083627\n",
       "compression-ratio    0.072890\n",
       "symboling           -0.080149\n",
       "peak-rpm            -0.107283\n",
       "city-mpg            -0.668822\n",
       "highway-mpg         -0.693037\n",
       "Name: price, dtype: float64"
      ]
     },
     "execution_count": 1345,
     "metadata": {},
     "output_type": "execute_result"
    }
   ],
   "source": [
    "corr_matrix = df.corr() \n",
    "corr_matrix\n",
    "# looking at how the other numberic features relate to median_house_value\n",
    "corr_matrix['price'].sort_values(ascending=False)"
   ]
  },
  {
   "cell_type": "code",
   "execution_count": 1346,
   "metadata": {},
   "outputs": [
    {
     "data": {
      "text/plain": [
       "<matplotlib.axes._subplots.AxesSubplot at 0x1a37834350>"
      ]
     },
     "execution_count": 1346,
     "metadata": {},
     "output_type": "execute_result"
    },
    {
     "data": {
      "image/png": "[encoded data removed]",
      "text/plain": [
       "<Figure size 432x288 with 1 Axes>"
      ]
     },
     "metadata": {
      "needs_background": "light"
     },
     "output_type": "display_data"
    },
    {
     "data": {
      "image/png": "[encoded data removed]",
      "text/plain": [
       "<Figure size 432x288 with 1 Axes>"
      ]
     },
     "metadata": {
      "needs_background": "light"
     },
     "output_type": "display_data"
    },
    {
     "data": {
      "image/png": "[encoded data removed]",
      "text/plain": [
       "<Figure size 432x288 with 1 Axes>"
      ]
     },
     "metadata": {
      "needs_background": "light"
     },
     "output_type": "display_data"
    }
   ],
   "source": [
    "# df.plot(kind=\"scatter\", x='engine-size', y='price', alpha=0.1) I'm letting this go because getting engine-size seems impossible in production\n",
    "df.plot(kind=\"scatter\", x='highway-mpg', y='price', alpha=0.1)\n",
    "df.plot(kind=\"scatter\", x='city-mpg', y='price', alpha=0.1)\n",
    "df.plot(kind=\"scatter\", x='horsepower', y='price', alpha=0.1)"
   ]
  },
  {
   "cell_type": "code",
   "execution_count": 1347,
   "metadata": {},
   "outputs": [
    {
     "data": {
      "text/plain": [
       "array([[<matplotlib.axes._subplots.AxesSubplot object at 0x1a3778e310>,\n",
       "        <matplotlib.axes._subplots.AxesSubplot object at 0x1a37719f50>,\n",
       "        <matplotlib.axes._subplots.AxesSubplot object at 0x1a3797bbd0>,\n",
       "        <matplotlib.axes._subplots.AxesSubplot object at 0x1a37a52f50>],\n",
       "       [<matplotlib.axes._subplots.AxesSubplot object at 0x1a37a84c10>,\n",
       "        <matplotlib.axes._subplots.AxesSubplot object at 0x1a37abdf90>,\n",
       "        <matplotlib.axes._subplots.AxesSubplot object at 0x1a37aeec50>,\n",
       "        <matplotlib.axes._subplots.AxesSubplot object at 0x1a37b2afd0>],\n",
       "       [<matplotlib.axes._subplots.AxesSubplot object at 0x1a37b36110>,\n",
       "        <matplotlib.axes._subplots.AxesSubplot object at 0x1a37b66990>,\n",
       "        <matplotlib.axes._subplots.AxesSubplot object at 0x1a37bd1cd0>,\n",
       "        <matplotlib.axes._subplots.AxesSubplot object at 0x1a37c12510>],\n",
       "       [<matplotlib.axes._subplots.AxesSubplot object at 0x1a37c45d10>,\n",
       "        <matplotlib.axes._subplots.AxesSubplot object at 0x1a37c86550>,\n",
       "        <matplotlib.axes._subplots.AxesSubplot object at 0x1a37cbad50>,\n",
       "        <matplotlib.axes._subplots.AxesSubplot object at 0x1a37cfa590>]],\n",
       "      dtype=object)"
      ]
     },
     "execution_count": 1347,
     "metadata": {},
     "output_type": "execute_result"
    },
    {
     "data": {
      "image/png": "[encoded data removed]",
      "text/plain": [
       "<Figure size 936x576 with 16 Axes>"
      ]
     },
     "metadata": {
      "needs_background": "light"
     },
     "output_type": "display_data"
    }
   ],
   "source": [
    "from pandas.plotting import scatter_matrix\n",
    "attr = ['price','highway-mpg','city-mpg','horsepower']\n",
    "scatter_matrix(df[attr], figsize=(13,8))\n"
   ]
  },
  {
   "cell_type": "code",
   "execution_count": 1348,
   "metadata": {},
   "outputs": [],
   "source": [
    "# model_data = df[['price','highway-mpg','city-mpg']]\n",
    "# model_data\n"
   ]
  },
  {
   "cell_type": "markdown",
   "metadata": {},
   "source": [
    "# Split data into training and test data"
   ]
  },
  {
   "cell_type": "code",
   "execution_count": 1349,
   "metadata": {},
   "outputs": [],
   "source": [
    "from sklearn.model_selection import train_test_split # price highway-mpg city-mpg horsepower\n",
    "\n",
    "train_set, test_set = train_test_split(df[['highway-mpg','city-mpg','horsepower','price']], test_size=0.2, random_state=42)"
   ]
  },
  {
   "cell_type": "code",
   "execution_count": 1350,
   "metadata": {},
   "outputs": [],
   "source": [
    "# train_set.describe()"
   ]
  },
  {
   "cell_type": "code",
   "execution_count": 1351,
   "metadata": {},
   "outputs": [],
   "source": [
    "# test_set.describe()"
   ]
  },
  {
   "cell_type": "markdown",
   "metadata": {},
   "source": [
    "# Build pipeline"
   ]
  },
  {
   "cell_type": "code",
   "execution_count": 1352,
   "metadata": {},
   "outputs": [
    {
     "data": {
      "text/plain": [
       "-0.0059878844785188545"
      ]
     },
     "execution_count": 1352,
     "metadata": {},
     "output_type": "execute_result"
    }
   ],
   "source": [
    "train_set['price'].mean()"
   ]
  },
  {
   "cell_type": "markdown",
   "metadata": {},
   "source": [
    "# Select a model"
   ]
  },
  {
   "cell_type": "markdown",
   "metadata": {},
   "source": [
    "## Linear Regression"
   ]
  },
  {
   "cell_type": "code",
   "execution_count": 1353,
   "metadata": {},
   "outputs": [
    {
     "name": "stdout",
     "output_type": "stream",
     "text": [
      "0.6238228099797856\n",
      "[-0.76603623  0.46811383  0.52398427]\n"
     ]
    }
   ],
   "source": [
    "from sklearn.linear_model import LinearRegression\n",
    "lin_reg = LinearRegression()\n",
    "x = train_set[['highway-mpg','city-mpg','horsepower']]\n",
    "y = train_set['price']\n",
    "lin_reg.fit(x,y) # price highway-mpg city-mpg horsepower\n",
    "print( lin_reg.score(x,y) )\n",
    "print( lin_reg.coef_ )\n"
   ]
  },
  {
   "cell_type": "code",
   "execution_count": 1354,
   "metadata": {},
   "outputs": [],
   "source": [
    "# from sklearn.linear_model import LinearRegression\n",
    "\n",
    "# lin_reg = LinearRegression()\n",
    "# lin_reg.fit(housing_prepared, housing_labels)\n",
    "\n",
    "# some_data = housing.iloc[:4]\n",
    "# some_labels = housing_labels.iloc[:4]\n",
    "# some_data_prepared = full_pipeline.transform(some_data)\n",
    "# print('Predictions:', lin_reg.predict(some_data_prepared))\n",
    "# print('Lables:',list(some_labels))\n"
   ]
  },
  {
   "cell_type": "markdown",
   "metadata": {},
   "source": [
    "## Decision Tree Regressor"
   ]
  },
  {
   "cell_type": "code",
   "execution_count": 1355,
   "metadata": {},
   "outputs": [
    {
     "data": {
      "text/plain": [
       "DecisionTreeRegressor(criterion='mse', max_depth=None, max_features=None,\n",
       "                      max_leaf_nodes=None, min_impurity_decrease=0.0,\n",
       "                      min_impurity_split=None, min_samples_leaf=1,\n",
       "                      min_samples_split=2, min_weight_fraction_leaf=0.0,\n",
       "                      presort=False, random_state=None, splitter='best')"
      ]
     },
     "execution_count": 1355,
     "metadata": {},
     "output_type": "execute_result"
    }
   ],
   "source": [
    "from sklearn.tree import DecisionTreeRegressor\n",
    "\n",
    "tree_reg = DecisionTreeRegressor()\n",
    "tree_reg.fit(x, y)"
   ]
  },
  {
   "cell_type": "code",
   "execution_count": 1356,
   "metadata": {},
   "outputs": [],
   "source": [
    "# from sklearn.tree import DecisionTreeRegressor\n",
    "\n",
    "# tree_reg = DecisionTreeRegressor()\n",
    "# tree_reg.fit(housing_prepared, housing_labels)\n",
    "\n",
    "# # testing it out\n",
    "# tree_rmse = rmse(tree_reg, housing_prepared, housing_labels)\n",
    "# print('Decision Tree Regression RMSE:', tree_rms)"
   ]
  },
  {
   "cell_type": "markdown",
   "metadata": {},
   "source": [
    "## Random Forest Regression"
   ]
  },
  {
   "cell_type": "code",
   "execution_count": 1357,
   "metadata": {},
   "outputs": [
    {
     "name": "stderr",
     "output_type": "stream",
     "text": [
      "/Users/sheldonmaygunlogson/opt/anaconda3/lib/python3.7/site-packages/sklearn/ensemble/forest.py:245: FutureWarning: The default value of n_estimators will change from 10 in version 0.20 to 100 in 0.22.\n",
      "  \"10 in version 0.20 to 100 in 0.22.\", FutureWarning)\n"
     ]
    },
    {
     "data": {
      "text/plain": [
       "RandomForestRegressor(bootstrap=True, criterion='mse', max_depth=None,\n",
       "                      max_features='auto', max_leaf_nodes=None,\n",
       "                      min_impurity_decrease=0.0, min_impurity_split=None,\n",
       "                      min_samples_leaf=1, min_samples_split=2,\n",
       "                      min_weight_fraction_leaf=0.0, n_estimators=10,\n",
       "                      n_jobs=None, oob_score=False, random_state=None,\n",
       "                      verbose=0, warm_start=False)"
      ]
     },
     "execution_count": 1357,
     "metadata": {},
     "output_type": "execute_result"
    }
   ],
   "source": [
    "from sklearn.ensemble import RandomForestRegressor\n",
    "\n",
    "forest_reg = RandomForestRegressor()\n",
    "forest_reg.fit(x,y)"
   ]
  },
  {
   "cell_type": "code",
   "execution_count": 1358,
   "metadata": {},
   "outputs": [],
   "source": [
    "# from sklearn.ensemble import RandomForestRegressor\n",
    "\n",
    "# forest_reg = RandomForestRegressor()\n",
    "# forest_reg.fit(housing_prepared, housing_labels)\n",
    "\n",
    "# forest_rmse = rmse(forest_reg, housing_prepared, housing_labels)\n",
    "# print('Random Forest Regression RMSE:', forest_rmse)\n",
    "\n",
    "# scores = cross_val_score(forest_reg, housing_prepared, housing_labels, scoring='neg_mean_squared_error', cv=10)\n",
    "# forest_rmse_scores = np.sqrt(-scores)\n",
    "# # scores = cross_val_score(tree_reg, housing_prepared, housing_labels, scoring=\"neg_mean_squared_error\", cv=10)\n",
    "# # tree_rmse_scores = np.sqrt(-scores)\n",
    "# display_scores(scores)"
   ]
  },
  {
   "cell_type": "markdown",
   "metadata": {},
   "source": [
    "# Testing the models"
   ]
  },
  {
   "cell_type": "markdown",
   "metadata": {},
   "source": [
    "## RMSE"
   ]
  },
  {
   "cell_type": "code",
   "execution_count": 1359,
   "metadata": {},
   "outputs": [
    {
     "name": "stdout",
     "output_type": "stream",
     "text": [
      "Linear Regression RMSE: 0.5907861696081874\n",
      "Decision Tree Regression RMSE: 0.13034878226591437\n",
      "Random Forest Regression RMSE: 0.22599006549525613\n"
     ]
    }
   ],
   "source": [
    "# rmse\n",
    "from sklearn.metrics import mean_squared_error\n",
    "\n",
    "def rmse(model, data_prepared, labels):\n",
    "    predictions = model.predict(data_prepared)\n",
    "    mse = mean_squared_error(labels, predictions)\n",
    "    rmse = np.sqrt(mse)\n",
    "    return rmse\n",
    "\n",
    "lin_rmse = rmse(lin_reg, x, y) \n",
    "print('Linear Regression RMSE:', lin_rmse)\n",
    "tree_rmse = rmse(tree_reg, x, y)\n",
    "print('Decision Tree Regression RMSE:', tree_rmse)\n",
    "forest_rmse = rmse(forest_reg, x, y)\n",
    "print('Random Forest Regression RMSE:', forest_rmse)\n"
   ]
  },
  {
   "cell_type": "code",
   "execution_count": 1360,
   "metadata": {},
   "outputs": [],
   "source": [
    "# from sklearn.metrics import mean_squared_error\n",
    "\n",
    "# def rmse(model, data_prepared, labels):\n",
    "#     predictions = model.predict(data_prepared)\n",
    "#     mse = mean_squared_error(labels, predictions)\n",
    "#     rmse = np.sqrt(mse)\n",
    "#     return rmse\n",
    "\n",
    "# # housing_predictions = lin_reg.predict(housing_prepared)\n",
    "# # lin_mse = mean_squared_error(housing_labels, housing_predictions)\n",
    "# # lin_rmse = np.sqrt(lin_mse)\n",
    "# lin_rmse = rmse(lin_reg, housing_prepared, housing_labels)\n",
    "# print('Linear Regression RMSE:', lin_rmse)\n"
   ]
  },
  {
   "cell_type": "markdown",
   "metadata": {},
   "source": [
    "## Cross Validation"
   ]
  },
  {
   "cell_type": "code",
   "execution_count": 1361,
   "metadata": {},
   "outputs": [],
   "source": [
    "from sklearn.model_selection import cross_val_score\n",
    "\n",
    "def display_scores(scores):\n",
    "    print('Scores:', scores, 'Score len:', len(scores))\n",
    "    print('Mean:', scores.mean()) \n",
    "    print('Standard Deviation:', scores.std())"
   ]
  },
  {
   "cell_type": "code",
   "execution_count": 1362,
   "metadata": {},
   "outputs": [],
   "source": [
    "# from sklearn.model_selection import cross_val_score\n",
    "\n",
    "# scores = cross_val_score(tree_reg, housing_prepared, housing_labels, scoring=\"neg_mean_squared_error\", cv=10)\n",
    "# tree_rmse_scores = np.sqrt(-scores)\n",
    "\n",
    "# def display_scores(scores):\n",
    "#     print('Scores:', scores, 'Score len:', len(scores))\n",
    "#     print('Mean:', scores.mean()) \n",
    "#     print('Standard Deviation:', scores.std())\n",
    "\n",
    "# display_scores(tree_rmse_scores)"
   ]
  },
  {
   "cell_type": "code",
   "execution_count": 1363,
   "metadata": {},
   "outputs": [
    {
     "name": "stdout",
     "output_type": "stream",
     "text": [
      "lin_rmse\n",
      "Scores: [0.60384241 0.61125127 0.50411821 0.43381447 0.63215264 0.37646364\n",
      " 0.39076399 0.68611187 0.95201799 0.88229575] Score len: 10\n",
      "Mean: 0.6072832244577461\n",
      "Standard Deviation: 0.1849936921243778\n",
      "tree_rmse\n",
      "Scores: [0.49313022 0.28787657 0.20326136 0.35142947 0.48635995 0.42783972\n",
      " 0.58924453 0.35693355 1.01397633 0.43057809] Score len: 10\n",
      "Mean: 0.4640629796680316\n",
      "Standard Deviation: 0.21096745958686372\n",
      "forest_rmse\n",
      "Scores: [0.43456463 0.36551917 0.19765494 0.28156631 0.50670352 0.34276593\n",
      " 0.4136942  0.31962189 0.74559425 0.48357257] Score len: 10\n",
      "Mean: 0.40912574217612485\n",
      "Standard Deviation: 0.14291613798746822\n"
     ]
    }
   ],
   "source": [
    "# # lin_reg\n",
    "# # tree_reg\n",
    "# # forest_reg\n",
    "print('lin_rmse')\n",
    "scores = cross_val_score(lin_reg, x, y, scoring=\"neg_mean_squared_error\", cv=10)\n",
    "lin_rmse_scores = np.sqrt(-scores)\n",
    "display_scores(lin_rmse_scores)\n",
    "print('tree_rmse')\n",
    "scores = cross_val_score(tree_reg, x, y, scoring=\"neg_mean_squared_error\", cv=10)\n",
    "tree_rmse_scores = np.sqrt(-scores)\n",
    "display_scores(tree_rmse_scores)\n",
    "print('forest_rmse')\n",
    "scores = cross_val_score(forest_reg, x, y, scoring=\"neg_mean_squared_error\", cv=10)\n",
    "forest_rmse_scores = np.sqrt(-scores)\n",
    "display_scores(forest_rmse_scores)"
   ]
  },
  {
   "cell_type": "code",
   "execution_count": 1364,
   "metadata": {},
   "outputs": [],
   "source": [
    "# more testing"
   ]
  },
  {
   "cell_type": "code",
   "execution_count": 1365,
   "metadata": {},
   "outputs": [],
   "source": [
    "# # lin_reg\n",
    "# # tree_reg\n",
    "# # forest_reg\n",
    "\n",
    "# X_test = strat_test_set.drop('median_house_value', axis=1)\n",
    "# y_test = strat_test_set['median_house_value'].copy()\n",
    "\n",
    "# X_test_prepared = full_pipeline.transform(X_test)\n",
    "\n",
    "# lin_reg_rmse = rmse(lin_reg, X_test_prepared, y_test)\n",
    "# tree_reg_rmse = rmse(tree_reg, X_test_prepared, y_test)\n",
    "# forest_reg_rmse = rmse(forest_reg, X_test_prepared, y_test)\n",
    "\n",
    "# print(\"lin rmse:\", lin_reg_rmse)\n",
    "# print(\"tree rmse:\", tree_reg_rmse)\n",
    "# print(\"forest rmse:\", forest_reg_rmse)\n",
    "# # def rmse(model, data_prepared, labels):"
   ]
  },
  {
   "cell_type": "markdown",
   "metadata": {},
   "source": [
    "# Saving Models in Pickles!"
   ]
  },
  {
   "cell_type": "code",
   "execution_count": 1366,
   "metadata": {},
   "outputs": [
    {
     "data": {
      "text/plain": [
       "['models/forest_reg.pkl']"
      ]
     },
     "execution_count": 1366,
     "metadata": {},
     "output_type": "execute_result"
    }
   ],
   "source": [
    "import joblib # lin_reg tree_reg forest_reg\n",
    "joblib.dump(lin_reg, 'models/lin_reg.pkl')\n",
    "joblib.dump(tree_reg, 'models/tree_reg.pkl')\n",
    "joblib.dump(forest_reg, 'models/forest_reg.pkl')"
   ]
  },
  {
   "cell_type": "code",
   "execution_count": 1367,
   "metadata": {},
   "outputs": [
    {
     "name": "stdout",
     "output_type": "stream",
     "text": [
      "Linear Regression RMSE: 0.7315857762573339\n"
     ]
    }
   ],
   "source": [
    "lr = joblib.load('models/lin_reg.pkl')\n",
    "tr = joblib.load('models/tree_reg.pkl')\n",
    "fr = joblib.load('models/forest_reg.pkl')\n",
    "\n",
    "x_test = test_set[['highway-mpg','city-mpg','horsepower']]\n",
    "y_test = test_set['price']\n",
    "\n",
    "lr_rmse = rmse(lr, x_test, y_test) \n",
    "print('Linear Regression RMSE:', lr_rmse)\n",
    "# print( df['price'].describe() ) \n",
    "# tree_rmse = rmse(tree_reg, x, y)\n",
    "# print('Decision Tree Regression RMSE:', tree_rmse)\n",
    "# forest_rmse = rmse(forest_reg, x, y)\n",
    "# print('Random Forest Regression RMSE:', forest_rmse)"
   ]
  },
  {
   "cell_type": "markdown",
   "metadata": {},
   "source": [
    "# Trying to fix the scaling prediction problem"
   ]
  },
  {
   "cell_type": "code",
   "execution_count": 1368,
   "metadata": {},
   "outputs": [
    {
     "name": "stdout",
     "output_type": "stream",
     "text": [
      "30760 \t 25050\n",
      "10295 \t 21407\n",
      "9549 \t 9675\n",
      "11850 \t 14204\n",
      "28248 \t 29639\n",
      "7799 \t 6909\n",
      "7788 \t 7559\n",
      "9258 \t 8574\n",
      "10198 \t 10719\n",
      "7775 \t 8335\n",
      "13295 \t 15397\n",
      "8238 \t 8227\n",
      "18280 \t 20611\n",
      "9988 \t 11049\n",
      "40960 \t 42370\n",
      "6488 \t 6461\n",
      "5151 \t 7342\n",
      "12629 \t 13195\n",
      "8189 \t 7806\n",
      "9960 \t 10347\n",
      "8495 \t 10260\n",
      "13499 \t 14774\n",
      "8249 \t 6909\n",
      "6479 \t 7252\n",
      "6692 \t 6691\n",
      "41315 \t 25050\n",
      "9639 \t 11139\n",
      "13415 \t 17180\n",
      "7999 \t 6909\n",
      "12940 \t 17180\n",
      "25552 \t 29639\n",
      "6229 \t 6691\n",
      "7898 \t 8419\n",
      "21485 \t 16654\n",
      "7689 \t 10502\n",
      "28176 \t 29639\n",
      "11259 \t 12331\n",
      "10945 \t 12505\n",
      "10295 \t 7839\n",
      "14489 \t 13195\n",
      "7463 \t 7719\n",
      "0.2689517010219521\n",
      "15269.410400275448\n"
     ]
    }
   ],
   "source": [
    "# df[['horsepower','price','highway-mpg','city-mpg']] = scaler.fit_transform(df_num[['horsepower','price','highway-mpg','city-mpg']])\n",
    "# lin_reg tree_reg forest_reg\n",
    "x = test_set[['highway-mpg','city-mpg','horsepower']]\n",
    "y = test_set['price']\n",
    "p = forest_reg.predict(x)\n",
    "# p = pd.Series(p, name=\"price\").to_frame()\n",
    "data = np.array([])\n",
    "idx = 0 # this is the only way to iterate through p\n",
    "for i in y.index:\n",
    "    data = np.append( data, abs( y[i] - p[idx] ) )\n",
    "    _y = int( y[i] * std_obj['price']['std'] + std_obj['price']['mean'] )\n",
    "    _p = int( p[idx] * std_obj['price']['std'] + std_obj['price']['mean'] )\n",
    "    print(_y,'\\t', _p )\n",
    "    idx += 1\n",
    "\n",
    "mean_diff_df = pd.DataFrame()\n",
    "mean_diff_df['price'] = data\n",
    "print(mean_diff_df['price'].mean())\n",
    "mean_diff_df = undo_std(mean_diff_df, ['price'], std_obj)\n",
    "print(mean_diff_df['price'].mean())\n",
    "# print(mean_diff_df)\n",
    "# for i in mean_diff_df.index:\n",
    "#     print(mean)"
   ]
  },
  {
   "cell_type": "code",
   "execution_count": 1238,
   "metadata": {
    "scrolled": true
   },
   "outputs": [
    {
     "name": "stdout",
     "output_type": "stream",
     "text": [
      "      price\n",
      "0  1.322281\n",
      "1  1.030661\n",
      "2 -0.352202\n",
      "3  0.058227\n",
      "     highway-mpg  city-mpg  horsepower     price\n",
      "15     -1.270789 -1.409250    1.969003  0.912701\n",
      "9      -1.270789 -1.409250    1.412459  1.393050\n",
      "100     0.471765  0.272157   -0.181278  0.104867\n",
      "132    -0.399512 -0.644974    0.147589  0.223259\n",
      "     highway-mpg  city-mpg  horsepower  price\n",
      "15          22.0      16.0        22.0   16.0\n",
      "9           22.0      16.0        22.0   16.0\n",
      "100         34.0      27.0        34.0   27.0\n",
      "132         28.0      21.0        28.0   21.0\n",
      "     highway-mpg  city-mpg  horsepower  price\n",
      "15          22.0      16.0        22.0   16.0\n",
      "9           22.0      16.0        22.0   16.0\n",
      "100         34.0      27.0        34.0   27.0\n",
      "132         28.0      21.0        28.0   21.0\n",
      "horsepower       182\n",
      "price          30760\n",
      "highway-mpg       22\n",
      "city-mpg          16\n",
      "Name: 15, dtype: object\n"
     ]
    }
   ],
   "source": [
    "# std_obj def std(df, cols = []): return (df, std_obj) def undo_std(df, cols = [], std_obj = {}): return df \n",
    "# df_num[['horsepower','price','highway-mpg','city-mpg']]\n",
    "temp_df = test_set[['highway-mpg','city-mpg','horsepower','price']]\n",
    "x = temp_df[['highway-mpg','city-mpg','horsepower']] # .iloc[:3]\n",
    "p = lin_reg.predict(x)\n",
    "p = pd.Series(p, name=\"price\").to_frame() # this turns the np array coming from predict into series then df\n",
    "y = test_set[['price']] # .iloc[:3]\n",
    "# print( type(test_set[['highway-mpg','city-mpg','horsepower','price']]) )\n",
    "# print( type(x) )\n",
    "# print( test_set.shape )\n",
    "# print( temp_df.shape ) \n",
    "# print( x.shape )\n",
    "# print( p.shape )\n",
    "# print( y.shape )\n",
    "# print(type(p))\n",
    "data = np.array([])\n",
    "# print(y)\n",
    "# print(p.index)\n",
    "idx = 0 # this is the only way to iterate through p\n",
    "for i in y.index:\n",
    "    temp = y['price'][i]\n",
    "    data = np.append( data, abs( y['price'][i] - p['price'][idx] ) )\n",
    "#     print(temp , p['price'][idx])\n",
    "#     print(i)\n",
    "    idx += 1\n",
    "\n",
    "temp_df['price'] = data\n",
    "# df_num[['horsepower','price','highway-mpg','city-mpg']] \n",
    "# = scaler.fit_transform(df_num[['horsepower','price','highway-mpg','city-mpg']])\n",
    "print(p.iloc[:4])\n",
    "print(temp_df.iloc[:4])\n",
    "temp_df[['horsepower','price','highway-mpg','city-mpg']] = undo_std(temp_df, ['horsepower','price','highway-mpg','city-mpg'], std_obj)# scaler.inverse_transform(temp_df)\n",
    "test_set[['horsepower','price','highway-mpg','city-mpg']]  = undo_std(test_set, ['horsepower','price','highway-mpg','city-mpg'], std_obj)# scaler.inverse_transform(test_set)\n",
    "# df['horsepower','price','highway-mpg','city-mpg'] = scaler.inverse_transform(df['horsepower','price','highway-mpg','city-mpg'])\n",
    "# print(p['price'].mean())\n",
    "# print(data.mean())\n",
    "# print(temp_df['price'].mean())\n",
    "# print(test_set['price'].mean())\n",
    "\n",
    "# print(data[:4])\n",
    "print(temp_df.iloc[:4])\n",
    "print(test_set.iloc[:4])\n",
    "df = pd.read_csv('datasets/cars_data.csv')\n",
    "print(df[['horsepower','price','highway-mpg','city-mpg']].iloc[15])\n",
    "# print(p.iloc[:4])\n",
    "# print(p['price'].mean())\n",
    "# print(y['price'].mean())\n",
    "# print(temp_df)"
   ]
  },
  {
   "cell_type": "code",
   "execution_count": 1040,
   "metadata": {},
   "outputs": [
    {
     "ename": "NameError",
     "evalue": "name 'my_model' is not defined",
     "output_type": "error",
     "traceback": [
      "\u001b[0;31m---------------------------------------------------------------------------\u001b[0m",
      "\u001b[0;31mNameError\u001b[0m                                 Traceback (most recent call last)",
      "\u001b[0;32m<ipython-input-1040-ec2fc56b0f60>\u001b[0m in \u001b[0;36m<module>\u001b[0;34m\u001b[0m\n\u001b[1;32m      1\u001b[0m \u001b[0;32mimport\u001b[0m \u001b[0mjoblib\u001b[0m\u001b[0;34m\u001b[0m\u001b[0;34m\u001b[0m\u001b[0m\n\u001b[1;32m      2\u001b[0m \u001b[0;31m# to save\u001b[0m\u001b[0;34m\u001b[0m\u001b[0;34m\u001b[0m\u001b[0;34m\u001b[0m\u001b[0m\n\u001b[0;32m----> 3\u001b[0;31m \u001b[0mjoblib\u001b[0m\u001b[0;34m.\u001b[0m\u001b[0mdump\u001b[0m\u001b[0;34m(\u001b[0m\u001b[0mmy_model\u001b[0m\u001b[0;34m,\u001b[0m \u001b[0;34m'my_model.pkl'\u001b[0m\u001b[0;34m)\u001b[0m\u001b[0;34m\u001b[0m\u001b[0;34m\u001b[0m\u001b[0m\n\u001b[0m\u001b[1;32m      4\u001b[0m \u001b[0;31m# to read from pickel ( .pkl ) file\u001b[0m\u001b[0;34m\u001b[0m\u001b[0;34m\u001b[0m\u001b[0;34m\u001b[0m\u001b[0m\n\u001b[1;32m      5\u001b[0m \u001b[0mmy_model_loaded\u001b[0m \u001b[0;34m=\u001b[0m \u001b[0mjoblib\u001b[0m\u001b[0;34m.\u001b[0m\u001b[0mload\u001b[0m\u001b[0;34m(\u001b[0m\u001b[0;34m'my_model.pkl'\u001b[0m\u001b[0;34m)\u001b[0m\u001b[0;34m\u001b[0m\u001b[0;34m\u001b[0m\u001b[0m\n",
      "\u001b[0;31mNameError\u001b[0m: name 'my_model' is not defined"
     ]
    }
   ],
   "source": [
    "import joblib\n",
    "# to save\n",
    "joblib.dump(my_model, 'my_model.pkl')\n",
    "# to read from pickel ( .pkl ) file\n",
    "my_model_loaded = joblib.load('my_model.pkl')"
   ]
  },
  {
   "cell_type": "code",
   "execution_count": null,
   "metadata": {},
   "outputs": [],
   "source": []
  }
 ],
 "metadata": {
  "kernelspec": {
   "display_name": "Python 3",
   "language": "python",
   "name": "python3"
  },
  "language_info": {
   "codemirror_mode": {
    "name": "ipython",
    "version": 3
   },
   "file_extension": ".py",
   "mimetype": "text/x-python",
   "name": "python",
   "nbconvert_exporter": "python",
   "pygments_lexer": "ipython3",
   "version": "3.7.4"
  }
 },
 "nbformat": 4,
 "nbformat_minor": 2
}
